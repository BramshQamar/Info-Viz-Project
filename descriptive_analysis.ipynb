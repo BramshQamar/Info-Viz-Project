{
 "cells": [
  {
   "cell_type": "markdown",
   "metadata": {},
   "source": [
    "# IU Online Application Evaluation and Optimization\n",
    "\n",
    "## Descriptive Analysis\n",
    "\n",
    "---\n",
    "\n",
    "#### Client: Sharon Wavle\n",
    "\n",
    "---"
   ]
  },
  {
   "cell_type": "code",
   "execution_count": 1,
   "metadata": {},
   "outputs": [],
   "source": [
    "%matplotlib inline\n",
    "\n",
    "import matplotlib.pyplot as plt\n",
    "import numpy as np\n",
    "import pandas as pd\n",
    "import seaborn as sns"
   ]
  },
  {
   "cell_type": "code",
   "execution_count": 2,
   "metadata": {},
   "outputs": [],
   "source": [
    "def describe_momentums(df):\n",
    "    stats = df.describe(percentiles=[.5])\n",
    "    stats.rename(index={'50%': 'median'}, inplace=True)\n",
    "    stats = stats.reindex(['count', 'min', 'max', 'median', 'mean', 'std'])\n",
    "    stats = stats.append(pd.Series(data=df.skew(), name='skew'))\n",
    "    stats = stats.append(pd.Series(data=df.kurt(), name='kurt'))\n",
    "    return stats"
   ]
  },
  {
   "cell_type": "code",
   "execution_count": 3,
   "metadata": {},
   "outputs": [
    {
     "name": "stdout",
     "output_type": "stream",
     "text": [
      "['ID' 'StartDate' 'EndDate' 'Status' 'IPAddress' 'Progress'\n",
      " 'Duration (in seconds)' 'Finished' 'RecordedDate' 'ResponseId'\n",
      " 'RecipientLastName' 'RecipientFirstName' 'RecipientEmail'\n",
      " 'ExternalReference' 'LocationLatitude' 'LocationLongitude'\n",
      " 'DistributionChannel' 'UserLanguage' 'Q1_4' 'Q1_5' 'Q2' 'Q3' 'Q4' 'Q5'\n",
      " 'Q6' 'Q7_1' 'Q7_2' 'Q7_3' 'Q8' 'Q9' 'Q10' 'Q11' 'Q13'\n",
      " 'Q14_1 (Converted to Age)' 'Q15' 'Q16' 'Q17' 'Q18' 'Q19' 'Q20' 'Q21'\n",
      " 'Q22' 'Q23_1' 'Q23_2' 'Q23_3' 'Q24' 'Q25' 'Q26' 'Q27' 'Q28' 'Q29' 'Q89'\n",
      " 'Q30_8' 'Q30_9' 'Q30_3' 'Q30_4' 'Q30_5' 'Q30_6' 'Q30_2' 'Q31_3' 'Q31_4'\n",
      " 'Q31_5' 'Q31_6' 'Q31_2' 'Q32' 'Q33' 'Q34_3' 'Q34_4' 'Q34_5' 'Q34_6'\n",
      " 'Q34_2' 'Q35' 'Q36' 'Q37' 'Q38_1' 'Q38_3' 'Q38_4' 'Q38_5' 'Q38_6' 'Q39'\n",
      " 'Q40' 'Q41' 'Q42' 'Q43_2' 'Q43_5' 'Q43_3' 'Q43_10' 'Q43_11' 'Q44' 'Q45_2'\n",
      " 'Q45_5' 'Q45_4' 'Q45_11' 'Q45_12' 'Q46_2' 'Q46_5' 'Q46_4' 'Q46_11'\n",
      " 'Q46_12' 'Q47_2' 'Q47_5' 'Q47_4' 'Q47_11' 'Q47_12' 'Q48' 'Q49_2' 'Q49_5'\n",
      " 'Q49_4' 'Q49_10' 'Q49_11' 'Q50_2' 'Q50_5' 'Q50_4' 'Q50_10' 'Q50_11'\n",
      " 'Q51_2' 'Q51_5' 'Q51_4' 'Q51_10' 'Q51_11' 'Q52_2' 'Q52_5' 'Q52_4'\n",
      " 'Q52_11' 'Q52_12' 'Q53' 'Q54_2' 'Q54_5' 'Q54_4' 'Q54_10' 'Q54_11' 'Q55_2'\n",
      " 'Q55_5' 'Q55_4' 'Q55_10' 'Q55_11' 'Q56_2' 'Q56_5' 'Q56_4' 'Q56_10'\n",
      " 'Q56_11' 'Q57_2' 'Q57_5' 'Q57_4' 'Q57_10' 'Q57_11' 'Q58_2' 'Q58_5'\n",
      " 'Q58_4' 'Q58_10' 'Q58_11' 'Q86_1' 'Q86_2' 'Q60' 'Q61' 'Q62' 'Q63' 'Q66'\n",
      " 'Q68_1' 'source' 'type' 'program_id' 'user' 'Access Zip' 'Access Country'\n",
      " 'Access Date' 'Access Time' 'Inquiry type' 'Q_R_DEL' 'audience' 'date'\n",
      " 'level' 'program' 'subject' 'created' 'Mobile Device' 'Mobile type'\n",
      " 'UG Campus' 'Grad_prog' 'Grad_contact' 'Administrative'\n",
      " 'Campus assignment' 'Q52_2 - Topics' '56_5 - Topics']\n"
     ]
    },
    {
     "name": "stderr",
     "output_type": "stream",
     "text": [
      "/Users/guaj0/.virtualenvs/phd-infoviz/lib/python3.7/site-packages/IPython/core/interactiveshell.py:3049: DtypeWarning: Columns (69,120,121,122,123,124,126,127,128,129,130,131,132,133,134,135,136,137,138,139,140,141,142,143,144,145,146,147,148,149,150,168,180) have mixed types. Specify dtype option on import or set low_memory=False.\n",
      "  interactivity=interactivity, compiler=compiler, result=result)\n"
     ]
    }
   ],
   "source": [
    "fname = 'data.csv'\n",
    "df = pd.read_csv(fname, skiprows=range(1, 2))\n",
    "\n",
    "print(df.columns.values)"
   ]
  },
  {
   "cell_type": "markdown",
   "metadata": {},
   "source": [
    "### Column refactoring\n",
    "\n",
    "Some columns have very long names. It is more practical to refactor them."
   ]
  },
  {
   "cell_type": "code",
   "execution_count": 4,
   "metadata": {},
   "outputs": [
    {
     "name": "stdout",
     "output_type": "stream",
     "text": [
      "['ID' 'StartDate' 'EndDate' 'Status' 'IPAddress' 'Progress' 'Duration'\n",
      " 'Finished' 'RecordedDate' 'ResponseId' 'RecipientLastName'\n",
      " 'RecipientFirstName' 'RecipientEmail' 'ExternalReference'\n",
      " 'LocationLatitude' 'LocationLongitude' 'DistributionChannel'\n",
      " 'UserLanguage' 'Q1_4' 'Q1_5' 'Q2' 'Q3' 'Q4' 'Q5' 'Q6' 'Q7_1' 'Q7_2'\n",
      " 'Q7_3' 'Q8' 'Q9' 'Q10' 'Q11' 'Q13' 'Q14_1' 'Q15' 'Q16' 'Q17' 'Q18' 'Q19'\n",
      " 'Q20' 'Q21' 'Q22' 'Q23_1' 'Q23_2' 'Q23_3' 'Q24' 'Q25' 'Q26' 'Q27' 'Q28'\n",
      " 'Q29' 'Q89' 'Q30_8' 'Q30_9' 'Q30_3' 'Q30_4' 'Q30_5' 'Q30_6' 'Q30_2'\n",
      " 'Q31_3' 'Q31_4' 'Q31_5' 'Q31_6' 'Q31_2' 'Q32' 'Q33' 'Q34_3' 'Q34_4'\n",
      " 'Q34_5' 'Q34_6' 'Q34_2' 'Q35' 'Q36' 'Q37' 'Q38_1' 'Q38_3' 'Q38_4' 'Q38_5'\n",
      " 'Q38_6' 'Q39' 'Q40' 'Q41' 'Q42' 'Q43_2' 'Q43_5' 'Q43_3' 'Q43_10' 'Q43_11'\n",
      " 'Q44' 'Q45_2' 'Q45_5' 'Q45_4' 'Q45_11' 'Q45_12' 'Q46_2' 'Q46_5' 'Q46_4'\n",
      " 'Q46_11' 'Q46_12' 'Q47_2' 'Q47_5' 'Q47_4' 'Q47_11' 'Q47_12' 'Q48' 'Q49_2'\n",
      " 'Q49_5' 'Q49_4' 'Q49_10' 'Q49_11' 'Q50_2' 'Q50_5' 'Q50_4' 'Q50_10'\n",
      " 'Q50_11' 'Q51_2' 'Q51_5' 'Q51_4' 'Q51_10' 'Q51_11' 'Q52_2' 'Q52_5'\n",
      " 'Q52_4' 'Q52_11' 'Q52_12' 'Q53' 'Q54_2' 'Q54_5' 'Q54_4' 'Q54_10' 'Q54_11'\n",
      " 'Q55_2' 'Q55_5' 'Q55_4' 'Q55_10' 'Q55_11' 'Q56_2' 'Q56_5' 'Q56_4'\n",
      " 'Q56_10' 'Q56_11' 'Q57_2' 'Q57_5' 'Q57_4' 'Q57_10' 'Q57_11' 'Q58_2'\n",
      " 'Q58_5' 'Q58_4' 'Q58_10' 'Q58_11' 'Q86_1' 'Q86_2' 'Q60' 'Q61' 'Q62' 'Q63'\n",
      " 'Q66' 'Q68_1' 'source' 'type' 'program_id' 'user' 'AccessZip'\n",
      " 'AccessCountry' 'AccessDate' 'AccessTime' 'InquiryType' 'Q_R_DEL'\n",
      " 'audience' 'date' 'level' 'program' 'subject' 'created' 'MobileDevice'\n",
      " 'MobileType' 'UGCampus' 'Grad_prog' 'Grad_contact' 'Administrative'\n",
      " 'CampusAssignment' 'Q52_2' 'Q56_5']\n"
     ]
    }
   ],
   "source": [
    "df.rename(columns={'Duration (in seconds)': 'Duration'}, inplace=True)\n",
    "df.rename(columns={'Q14_1 (Converted to Age)': 'Q14_1'}, inplace=True)\n",
    "df.rename(columns={'Access Zip': 'AccessZip'}, inplace=True)\n",
    "df.rename(columns={'Access Country': 'AccessCountry'}, inplace=True)\n",
    "df.rename(columns={'Access Date': 'AccessDate'}, inplace=True)\n",
    "df.rename(columns={'Access Time': 'AccessTime'}, inplace=True)\n",
    "df.rename(columns={'Inquiry type': 'InquiryType'}, inplace=True)\n",
    "df.rename(columns={'Mobile Device': 'MobileDevice'}, inplace=True)\n",
    "df.rename(columns={'Mobile type': 'MobileType'}, inplace=True)\n",
    "df.rename(columns={'UG Campus': 'UGCampus'}, inplace=True)\n",
    "df.rename(columns={'Campus assignment': 'CampusAssignment'}, inplace=True)\n",
    "df.rename(columns={'Q52_2 - Topics': 'Q52_2'}, inplace=True)\n",
    "df.rename(columns={'56_5 - Topics': 'Q56_5'}, inplace=True)\n",
    "\n",
    "print(df.columns.values)"
   ]
  },
  {
   "cell_type": "markdown",
   "metadata": {},
   "source": [
    "### Understanding the time related information"
   ]
  },
  {
   "cell_type": "code",
   "execution_count": 5,
   "metadata": {},
   "outputs": [
    {
     "name": "stdout",
     "output_type": "stream",
     "text": [
      "<class 'pandas.core.frame.DataFrame'>\n",
      "RangeIndex: 25616 entries, 0 to 25615\n",
      "Data columns (total 9 columns):\n",
      "ID              25616 non-null int64\n",
      "StartDate       25616 non-null object\n",
      "EndDate         25616 non-null object\n",
      "Progress        25616 non-null int64\n",
      "Duration        25616 non-null int64\n",
      "Finished        25616 non-null bool\n",
      "RecordedDate    25616 non-null object\n",
      "AccessDate      25616 non-null object\n",
      "AccessTime      25616 non-null object\n",
      "dtypes: bool(1), int64(3), object(5)\n",
      "memory usage: 1.6+ MB\n"
     ]
    }
   ],
   "source": [
    "time_df = df[['ID', 'StartDate', 'EndDate', 'Progress', 'Duration', 'Finished', 'RecordedDate', 'AccessDate', \n",
    "              'AccessTime']]\n",
    "\n",
    "time_df.info()"
   ]
  },
  {
   "cell_type": "code",
   "execution_count": 6,
   "metadata": {},
   "outputs": [
    {
     "data": {
      "text/html": [
       "<div>\n",
       "<style scoped>\n",
       "    .dataframe tbody tr th:only-of-type {\n",
       "        vertical-align: middle;\n",
       "    }\n",
       "\n",
       "    .dataframe tbody tr th {\n",
       "        vertical-align: top;\n",
       "    }\n",
       "\n",
       "    .dataframe thead th {\n",
       "        text-align: right;\n",
       "    }\n",
       "</style>\n",
       "<table border=\"1\" class=\"dataframe\">\n",
       "  <thead>\n",
       "    <tr style=\"text-align: right;\">\n",
       "      <th></th>\n",
       "      <th>Progress</th>\n",
       "      <th>Duration</th>\n",
       "    </tr>\n",
       "  </thead>\n",
       "  <tbody>\n",
       "    <tr>\n",
       "      <th>14126</th>\n",
       "      <td>100</td>\n",
       "      <td>91</td>\n",
       "    </tr>\n",
       "    <tr>\n",
       "      <th>4545</th>\n",
       "      <td>8</td>\n",
       "      <td>142</td>\n",
       "    </tr>\n",
       "    <tr>\n",
       "      <th>5091</th>\n",
       "      <td>100</td>\n",
       "      <td>155</td>\n",
       "    </tr>\n",
       "  </tbody>\n",
       "</table>\n",
       "</div>"
      ],
      "text/plain": [
       "       Progress  Duration\n",
       "14126       100        91\n",
       "4545          8       142\n",
       "5091        100       155"
      ]
     },
     "execution_count": 6,
     "metadata": {},
     "output_type": "execute_result"
    }
   ],
   "source": [
    "num_df = time_df.select_dtypes(include=[np.number])\n",
    "num_df = num_df.drop(['ID'], axis=1)\n",
    "num_df.sample(3)"
   ]
  },
  {
   "cell_type": "code",
   "execution_count": 7,
   "metadata": {},
   "outputs": [
    {
     "data": {
      "text/html": [
       "<div>\n",
       "<style scoped>\n",
       "    .dataframe tbody tr th:only-of-type {\n",
       "        vertical-align: middle;\n",
       "    }\n",
       "\n",
       "    .dataframe tbody tr th {\n",
       "        vertical-align: top;\n",
       "    }\n",
       "\n",
       "    .dataframe thead th {\n",
       "        text-align: right;\n",
       "    }\n",
       "</style>\n",
       "<table border=\"1\" class=\"dataframe\">\n",
       "  <thead>\n",
       "    <tr style=\"text-align: right;\">\n",
       "      <th></th>\n",
       "      <th>Progress</th>\n",
       "      <th>Duration</th>\n",
       "    </tr>\n",
       "  </thead>\n",
       "  <tbody>\n",
       "    <tr>\n",
       "      <th>count</th>\n",
       "      <td>25616.000000</td>\n",
       "      <td>2.561600e+04</td>\n",
       "    </tr>\n",
       "    <tr>\n",
       "      <th>min</th>\n",
       "      <td>0.000000</td>\n",
       "      <td>1.000000e+00</td>\n",
       "    </tr>\n",
       "    <tr>\n",
       "      <th>max</th>\n",
       "      <td>100.000000</td>\n",
       "      <td>7.696359e+06</td>\n",
       "    </tr>\n",
       "    <tr>\n",
       "      <th>median</th>\n",
       "      <td>100.000000</td>\n",
       "      <td>2.040000e+02</td>\n",
       "    </tr>\n",
       "    <tr>\n",
       "      <th>mean</th>\n",
       "      <td>72.730052</td>\n",
       "      <td>4.381541e+03</td>\n",
       "    </tr>\n",
       "    <tr>\n",
       "      <th>std</th>\n",
       "      <td>38.399267</td>\n",
       "      <td>1.045965e+05</td>\n",
       "    </tr>\n",
       "    <tr>\n",
       "      <th>skew</th>\n",
       "      <td>-0.838935</td>\n",
       "      <td>4.815231e+01</td>\n",
       "    </tr>\n",
       "    <tr>\n",
       "      <th>kurt</th>\n",
       "      <td>-1.080638</td>\n",
       "      <td>2.679066e+03</td>\n",
       "    </tr>\n",
       "  </tbody>\n",
       "</table>\n",
       "</div>"
      ],
      "text/plain": [
       "            Progress      Duration\n",
       "count   25616.000000  2.561600e+04\n",
       "min         0.000000  1.000000e+00\n",
       "max       100.000000  7.696359e+06\n",
       "median    100.000000  2.040000e+02\n",
       "mean       72.730052  4.381541e+03\n",
       "std        38.399267  1.045965e+05\n",
       "skew       -0.838935  4.815231e+01\n",
       "kurt       -1.080638  2.679066e+03"
      ]
     },
     "execution_count": 7,
     "metadata": {},
     "output_type": "execute_result"
    }
   ],
   "source": [
    "stats = describe_momentums(num_df)\n",
    "stats"
   ]
  },
  {
   "cell_type": "code",
   "execution_count": 8,
   "metadata": {},
   "outputs": [
    {
     "data": {
      "image/png": "[encoded data removed]",
      "text/plain": [
       "<Figure size 1080x432 with 2 Axes>"
      ]
     },
     "metadata": {
      "needs_background": "light"
     },
     "output_type": "display_data"
    }
   ],
   "source": [
    "cols_labels = num_df.columns.values\n",
    "rows = 1\n",
    "cols = np.floor(len(cols_labels) / rows)\n",
    "fig = plt.figure(figsize=(15, 6))\n",
    "for i in range(len(cols_labels)):\n",
    "    ax = fig.add_subplot(rows, cols, i + 1)\n",
    "    column = cols_labels[i]\n",
    "    ax = sns.distplot(num_df[column].dropna(), hist_kws={'color': 'r', 'ec': 'w', 'alpha': 0.3}, \n",
    "                      kde_kws={'color': 'k', 'lw': 2}, ax=ax)\n",
    "    mean = ax.axvline(stats[column].loc['mean'], ymax=0.95, color='#919191', label='mean', ls='--', lw=2)\n",
    "    median = ax.axvline(stats[column].loc['median'], ymax=0.95, color='#404040', label='median', ls=':', lw=2)\n",
    "    plt.legend(handles=[mean, median])"
   ]
  },
  {
   "cell_type": "code",
   "execution_count": 9,
   "metadata": {},
   "outputs": [
    {
     "name": "stderr",
     "output_type": "stream",
     "text": [
      "/Users/guaj0/.virtualenvs/phd-infoviz/lib/python3.7/site-packages/pandas/core/indexing.py:362: SettingWithCopyWarning: \n",
      "A value is trying to be set on a copy of a slice from a DataFrame.\n",
      "Try using .loc[row_indexer,col_indexer] = value instead\n",
      "\n",
      "See the caveats in the documentation: http://pandas.pydata.org/pandas-docs/stable/indexing.html#indexing-view-versus-copy\n",
      "  self.obj[key] = _infer_fill_value(value)\n",
      "/Users/guaj0/.virtualenvs/phd-infoviz/lib/python3.7/site-packages/pandas/core/indexing.py:543: SettingWithCopyWarning: \n",
      "A value is trying to be set on a copy of a slice from a DataFrame.\n",
      "Try using .loc[row_indexer,col_indexer] = value instead\n",
      "\n",
      "See the caveats in the documentation: http://pandas.pydata.org/pandas-docs/stable/indexing.html#indexing-view-versus-copy\n",
      "  self.obj[item] = s\n"
     ]
    },
    {
     "data": {
      "text/html": [
       "<div>\n",
       "<style scoped>\n",
       "    .dataframe tbody tr th:only-of-type {\n",
       "        vertical-align: middle;\n",
       "    }\n",
       "\n",
       "    .dataframe tbody tr th {\n",
       "        vertical-align: top;\n",
       "    }\n",
       "\n",
       "    .dataframe thead th {\n",
       "        text-align: right;\n",
       "    }\n",
       "</style>\n",
       "<table border=\"1\" class=\"dataframe\">\n",
       "  <thead>\n",
       "    <tr style=\"text-align: right;\">\n",
       "      <th></th>\n",
       "      <th>StartDate</th>\n",
       "      <th>EndDate</th>\n",
       "      <th>RecordedDate</th>\n",
       "      <th>AccessDate</th>\n",
       "      <th>AccessTime</th>\n",
       "      <th>Finished</th>\n",
       "    </tr>\n",
       "  </thead>\n",
       "  <tbody>\n",
       "    <tr>\n",
       "      <th>1291</th>\n",
       "      <td>11/5/17 13:31</td>\n",
       "      <td>11/5/17 13:32</td>\n",
       "      <td>11/5/17 13:32</td>\n",
       "      <td>11/5/17</td>\n",
       "      <td>13:31:04</td>\n",
       "      <td>True</td>\n",
       "    </tr>\n",
       "    <tr>\n",
       "      <th>1352</th>\n",
       "      <td>11/7/17 10:33</td>\n",
       "      <td>11/7/17 10:42</td>\n",
       "      <td>11/7/17 10:42</td>\n",
       "      <td>11/7/17</td>\n",
       "      <td>10:33:46</td>\n",
       "      <td>True</td>\n",
       "    </tr>\n",
       "    <tr>\n",
       "      <th>5589</th>\n",
       "      <td>1/25/18 9:57</td>\n",
       "      <td>1/25/18 9:57</td>\n",
       "      <td>1/26/18 9:58</td>\n",
       "      <td>1/25/18</td>\n",
       "      <td>9:57:27</td>\n",
       "      <td>False</td>\n",
       "    </tr>\n",
       "  </tbody>\n",
       "</table>\n",
       "</div>"
      ],
      "text/plain": [
       "          StartDate        EndDate   RecordedDate AccessDate AccessTime  \\\n",
       "1291  11/5/17 13:31  11/5/17 13:32  11/5/17 13:32    11/5/17   13:31:04   \n",
       "1352  11/7/17 10:33  11/7/17 10:42  11/7/17 10:42    11/7/17   10:33:46   \n",
       "5589   1/25/18 9:57   1/25/18 9:57   1/26/18 9:58    1/25/18    9:57:27   \n",
       "\n",
       "      Finished  \n",
       "1291      True  \n",
       "1352      True  \n",
       "5589     False  "
      ]
     },
     "execution_count": 9,
     "metadata": {},
     "output_type": "execute_result"
    }
   ],
   "source": [
    "cat_df = time_df.select_dtypes(include=[np.object])\n",
    "cat_df.loc[:, 'Finished'] = df['Finished']\n",
    "cat_df.sample(3)"
   ]
  },
  {
   "cell_type": "code",
   "execution_count": 10,
   "metadata": {},
   "outputs": [
    {
     "data": {
      "image/png": "[encoded data removed]",
      "text/plain": [
       "<Figure size 432x432 with 1 Axes>"
      ]
     },
     "metadata": {
      "needs_background": "light"
     },
     "output_type": "display_data"
    }
   ],
   "source": [
    "cols_labels = cat_df[['Finished']].columns.values\n",
    "rows = 1\n",
    "cols = np.ceil(len(cols_labels) / rows)\n",
    "fig = plt.figure(figsize=(6, 6))\n",
    "for i in range(len(cols_labels)):\n",
    "    ax = fig.add_subplot(rows, cols, i + 1)\n",
    "    column = cols_labels[i]\n",
    "    ax = sns.countplot(cat_df[column], palette='coolwarm')"
   ]
  },
  {
   "cell_type": "markdown",
   "metadata": {},
   "source": [
    "### Understanding the user related information"
   ]
  },
  {
   "cell_type": "code",
   "execution_count": 11,
   "metadata": {},
   "outputs": [
    {
     "name": "stdout",
     "output_type": "stream",
     "text": [
      "<class 'pandas.core.frame.DataFrame'>\n",
      "RangeIndex: 25616 entries, 0 to 25615\n",
      "Data columns (total 6 columns):\n",
      "ID                    25616 non-null int64\n",
      "RecipientLastName     0 non-null float64\n",
      "RecipientFirstName    0 non-null float64\n",
      "RecipientEmail        0 non-null float64\n",
      "AccessZip             22156 non-null object\n",
      "AccessCountry         25604 non-null object\n",
      "dtypes: float64(3), int64(1), object(2)\n",
      "memory usage: 1.2+ MB\n"
     ]
    }
   ],
   "source": [
    "user_df = df[['ID', 'RecipientLastName', 'RecipientFirstName', 'RecipientEmail', 'AccessZip', 'AccessCountry']]\n",
    "\n",
    "user_df.info()"
   ]
  },
  {
   "cell_type": "markdown",
   "metadata": {},
   "source": [
    "### Understanding the metadata"
   ]
  },
  {
   "cell_type": "code",
   "execution_count": 12,
   "metadata": {},
   "outputs": [
    {
     "name": "stdout",
     "output_type": "stream",
     "text": [
      "<class 'pandas.core.frame.DataFrame'>\n",
      "RangeIndex: 25616 entries, 0 to 25615\n",
      "Data columns (total 29 columns):\n",
      "ID                     25616 non-null int64\n",
      "ExternalReference      0 non-null float64\n",
      "LocationLatitude       0 non-null float64\n",
      "LocationLongitude      0 non-null float64\n",
      "DistributionChannel    25616 non-null object\n",
      "UserLanguage           24385 non-null object\n",
      "source                 25400 non-null object\n",
      "type                   25399 non-null object\n",
      "program_id             11921 non-null float64\n",
      "user                   53 non-null float64\n",
      "InquiryType            23830 non-null object\n",
      "Q_R_DEL                2136 non-null object\n",
      "audience               1228 non-null object\n",
      "date                   1115 non-null float64\n",
      "level                  6111 non-null object\n",
      "program                6111 non-null object\n",
      "subject                1806 non-null object\n",
      "created                0 non-null float64\n",
      "MobileDevice           11231 non-null object\n",
      "MobileType             2823 non-null object\n",
      "UGCampus               6209 non-null object\n",
      "Grad_prog              4464 non-null object\n",
      "Grad_contact           0 non-null float64\n",
      "Administrative         19 non-null object\n",
      "CampusAssignment       25407 non-null object\n",
      "Q52_2                  23 non-null object\n",
      "Q52_2                  0 non-null float64\n",
      "Q56_5                  4 non-null object\n",
      "Q56_5                  0 non-null float64\n",
      "dtypes: float64(10), int64(1), object(18)\n",
      "memory usage: 5.7+ MB\n"
     ]
    }
   ],
   "source": [
    "meta_df = df[['ID', 'ExternalReference', 'LocationLatitude', 'LocationLongitude', 'DistributionChannel', \n",
    "              'UserLanguage', 'source', 'type', 'program_id', 'user', 'InquiryType', 'Q_R_DEL', 'audience', 'date', \n",
    "              'level', 'program', 'subject', 'created', 'MobileDevice', 'MobileType', 'UGCampus', 'Grad_prog', \n",
    "              'Grad_contact', 'Administrative', 'CampusAssignment', 'Q52_2', 'Q56_5']]\n",
    "\n",
    "meta_df.info()"
   ]
  },
  {
   "cell_type": "code",
   "execution_count": null,
   "metadata": {},
   "outputs": [],
   "source": []
  }
 ],
 "metadata": {
  "kernelspec": {
   "display_name": "Python 3",
   "language": "python",
   "name": "python3"
  },
  "language_info": {
   "codemirror_mode": {
    "name": "ipython",
    "version": 3
   },
   "file_extension": ".py",
   "mimetype": "text/x-python",
   "name": "python",
   "nbconvert_exporter": "python",
   "pygments_lexer": "ipython3",
   "version": "3.7.3"
  }
 },
 "nbformat": 4,
 "nbformat_minor": 2
}
